{
  "cells": [
    {
      "cell_type": "markdown",
      "metadata": {
        "id": "view-in-github",
        "colab_type": "text"
      },
      "source": [
        "<a href=\"https://colab.research.google.com/github/bforseth15/WSU-College-Portfolio/blob/main/RetirementFundzs_MasterDoc.ipynb\" target=\"_parent\"><img src=\"https://colab.research.google.com/assets/colab-badge.svg\" alt=\"Open In Colab\"/></a>"
      ]
    },
    {
      "cell_type": "markdown",
      "metadata": {
        "id": "4UNBMkr-1SoI"
      },
      "source": [
        "# Creating a Retirement App Using Python\n",
        "## FIN 429 - Financial Modeling"
      ]
    },
    {
      "cell_type": "code",
      "execution_count": 1,
      "metadata": {
        "id": "CcL8JSXS1SSk",
        "colab": {
          "base_uri": "https://localhost:8080/"
        },
        "outputId": "92e2c434-d70e-4c68-c597-e7a74c62132d"
      },
      "outputs": [
        {
          "output_type": "stream",
          "name": "stdout",
          "text": [
            "\u001b[2K   \u001b[90m━━━━━━━━━━━━━━━━━━━━━━━━━━━━━━━━━━━━━━━━\u001b[0m \u001b[32m10.1/10.1 MB\u001b[0m \u001b[31m28.6 MB/s\u001b[0m eta \u001b[36m0:00:00\u001b[0m\n",
            "\u001b[2K   \u001b[90m━━━━━━━━━━━━━━━━━━━━━━━━━━━━━━━━━━━━━━━━\u001b[0m \u001b[32m6.9/6.9 MB\u001b[0m \u001b[31m63.1 MB/s\u001b[0m eta \u001b[36m0:00:00\u001b[0m\n",
            "\u001b[?25h"
          ]
        }
      ],
      "source": [
        "# First, the notebook must install Streamlit (necessary for Web Apps)\n",
        "!pip install streamlit pyngrok -q"
      ]
    },
    {
      "cell_type": "markdown",
      "source": [
        "### Application Script (app.py):\n",
        "\n",
        "**Page Setup:** The script starts with setting up the Streamlit page, including the title (\"Financial Planning Calculator\").\n",
        "\n",
        "**User Inputs:** The app collects various user inputs:\n",
        "\n",
        "**Monthly Income:** User inputs for annual salary and tax rate.\n",
        "\n",
        "**Monthly Expenses:** Inputs for monthly rental, food budget, unforeseen expenses, transport fees, utilities, and entertainment budget.\n",
        "\n",
        "### Calculations for net monthly take-home salary and total monthly expenses:\n",
        "**Savings Forecast:**\n",
        "\n",
        "Inputs for forecasting years. Calculations to forecast future salary, expenses, and savings over the given period, consider adding inflation and salary growth.\n",
        "\n",
        "**Visualization:**\n",
        "\n",
        "A Plotly graph visualizing the forecasted salary, expenses, and cumulative savings over the years."
      ],
      "metadata": {
        "id": "ipJqrxNuKwWD"
      }
    },
    {
      "cell_type": "code",
      "execution_count": 3,
      "metadata": {
        "colab": {
          "base_uri": "https://localhost:8080/"
        },
        "id": "fUzhOHxU1E4o",
        "outputId": "10fec81a-643a-402b-c488-8bb60547806d"
      },
      "outputs": [
        {
          "output_type": "stream",
          "name": "stdout",
          "text": [
            "Overwriting app.py\n"
          ]
        }
      ],
      "source": [
        "# This text allows a Jupyter Notebook to interact like a local .py file\n",
        "%%writefile app.py\n",
        "\n",
        "# These three bring in streamlit, plotting software, and our favorite - numpy\n",
        "import streamlit as st\n",
        "import plotly.graph_objects as go\n",
        "import numpy as np\n",
        "\n",
        "st.set_page_config(page_title=\"Simple Financial Planner\")\n",
        "\n",
        "st.title(\"Simple Financial Planner\")\n",
        "st.subheader(\"Plan your retirement savings with a basic income and expense tracker.\")\n",
        "\n",
        "# Section 1: Monthly Income\n",
        "st.header(\"Monthly Income\")\n",
        "annual_salary = st.number_input(\"Enter your annual salary ($):\", min_value=0.0, step=1000.0, value=50000.0)\n",
        "years_to_retirement = st.slider(\"Enter how years until retirement:\", min_value=1, max_value=50, value=30, step=1)\n",
        "growth = st.slider(\"Expected Annual Salary Growth per year (%):\", min_value=0.0, max_value=20.0, value=10.0) / 100\n",
        "growth_years = st.slider(\"How many years between pay raises (%):\", min_value=0.0, max_value=10.0, value=5.0)\n",
        "tax_rate = st.slider(\"Select your tax rate (%):\", min_value=0.0, max_value=50.0, value=20.0, step=1.0)\n",
        "\n",
        "# Calculate take-home monthly income for first year\n",
        "monthly_income1 = (annual_salary * (1 - tax_rate / 100)) / 12\n",
        "st.write(f\"Your monthly take-home income for this year is: **${monthly_income1:.2f}**\")\n",
        "\n",
        "# Calculate average take-home monthly income for any number of years including salary growth\n",
        "monthly_income2 = (((annual_salary * years_to_retirement)* ((1 + (growth)) ** years_to_retirement)) * (1 - tax_rate / 100) / years_to_retirement) / 12\n",
        "st.write(f\"Your average monthly take-home income until retirement factoring in salary growth: **${monthly_income2:.2f}**\")\n",
        "\n",
        "# Section 2: Monthly Expenses\n",
        "st.header(\"Monthly Expenses\")\n",
        "rent = st.number_input(\"Monthly Rent ($):\", min_value=0.0, step=50.0, value=1000.0)\n",
        "food = st.number_input(\"Monthly Food Budget ($):\", min_value=0.0, step=50.0, value=500.0)\n",
        "transport = st.number_input(\"Monthly Transport Costs ($):\", min_value=0.0, step=50.0, value=200.0)\n",
        "\n",
        "total_expenses = rent + food + transport\n",
        "monthly_savings = max(monthly_income2 - total_expenses, 0)\n",
        "\n",
        "st.write(f\"Your total monthly expenses are: **${total_expenses:.2f}**\")\n",
        "st.write(f\"Your estimated monthly savings are: **${monthly_savings:.2f}**\")\n",
        "\n",
        " #loan Repayment and Visualization\n",
        "st.header('Loan Repayment')\n",
        "loan_value = st.number_input(\"Enter the loan value:\", min_value=0.0, step=1000.0, value=25000.0)\n",
        "loan_interest_rate = st.slider(\"Select the loan interest rate (%):\", min_value=0.0, max_value=50.0, value=10.0, step=.5)\n",
        "loan_true_interest_rate = loan_interest_rate *.01\n",
        "loan_payment_frequency = st.slider(\"Select the loan payment frequency (months):\", min_value=1, max_value=24, value=12, step=1)\n",
        "loan_term = st.slider(\"Select the loan term (years):\", min_value=1, max_value=30, value=10, step=1)\n",
        "total_months2 = loan_term * 12\n",
        "loan_total_payment = loan_value * (1 + loan_interest_rate / 100 / loan_payment_frequency) ** (loan_payment_frequency * loan_term)\n",
        "\n",
        "monthly_payment = st.slider(\"Monthly payment (Default is 20% of monthly savings) ($):\", min_value=0.0, step=50.0, max_value= monthly_savings, value=monthly_savings*.2)\n",
        "\n",
        "\n",
        "# Loan Repayment Simulation\n",
        "st.subheader(\"Loan Balance Over Time\")\n",
        "\n",
        "loan_balance = loan_value\n",
        "loan_over_time = []\n",
        "months = 0\n",
        "\n",
        "# Avoid infinite loop by checking if payment is sufficient\n",
        "if monthly_payment <= (loan_balance * (loan_true_interest_rate / 12)):\n",
        "    st.write(\"⚠️ **Warning:** Monthly payment is too low! Interest will keep increasing the balance.\")\n",
        "else:\n",
        "    # Loan amortization calculation\n",
        "    while loan_balance > 0:\n",
        "        interest_for_month = loan_balance * (loan_true_interest_rate / 12)  # Monthly interest\n",
        "        principal_paid = max(0, monthly_payment - interest_for_month)  # Principal portion\n",
        "        loan_balance = max(0, loan_balance - principal_paid)  # Update balance\n",
        "\n",
        "        loan_over_time.append(loan_balance)\n",
        "        months += 1\n",
        "\n",
        "        # Stop early if rounding errors keep balance slightly above 0\n",
        "        if loan_balance < 0.01:\n",
        "            loan_balance = 0\n",
        "            break\n",
        "\n",
        "    # Plot Loan Balance Over Time\n",
        "    fig = go.Figure()\n",
        "    fig.add_trace(go.Scatter(x=list(range(months)), y=loan_over_time, mode='lines', name='Loan Balance'))\n",
        "    fig.update_layout(title=\"Loan Balance Over Time\", xaxis_title=\"Months\", yaxis_title=\"Remaining Loan ($)\")\n",
        "    st.plotly_chart(fig, use_container_width=True)\n",
        "\n",
        "    st.write(f\"Loan will be paid off in **{months} months** ({months//12} years, {months%12} months).\")\n",
        "    st.write(f\"Totaling **${monthly_payment * months:.2f}** across the life of the loan\")\n",
        "    st.write(f\"Your new monthly savings after loan payments is **${monthly_savings - monthly_payment:.2f}**\")\n",
        "\n",
        "    monthly_savings_2 = monthly_savings - monthly_payment\n",
        "\n",
        "# Section 3: Simple Simulation\n",
        "st.header(\"Retirement Savings Simulation\")\n",
        "st.subheader(\"Estimate your retirement savings based on monthly contributions and expected returns.\")\n",
        "\n",
        "current_savings = st.number_input(\"Current Savings ($):\", min_value=0.0, step=1000.0, value=10000.0)\n",
        "monthly_contribution = st.slider(\n",
        "    \"Set your monthly contribution to savings ($):\",\n",
        "    min_value=0.0,\n",
        "    max_value=monthly_savings_2,\n",
        "    value=min(500.0, monthly_savings),\n",
        "    step=50.0\n",
        ")\n",
        "monthly_savings_3 = monthly_savings_2 - monthly_contribution\n",
        "annual_return = st.slider(\"Expected Annual Return on Investments (%):\", min_value=0.0, max_value=15.0, value=8.0) / 100\n",
        "\n",
        "# Projected savings calculation\n",
        "total_months = years_to_retirement * 12\n",
        "monthly_return = (1 + annual_return) ** (1 / 12) - 1\n",
        "future_savings = current_savings * (1 + monthly_return) ** total_months\n",
        "for month in range(total_months):\n",
        "    future_savings += monthly_contribution * (1 + monthly_return) ** (total_months - month)\n",
        "\n",
        "st.write(f\"Projected savings at retirement: **${future_savings:,.2f}**\")\n",
        "\n",
        "# Visualization\n",
        "st.subheader(\"Savings Over Time\")\n",
        "savings_over_time = [current_savings]\n",
        "for month in range(1, total_months + 1):\n",
        "    savings_over_time.append(\n",
        "        savings_over_time[-1] * (1 + monthly_return) + monthly_contribution\n",
        "    )\n",
        "fig = go.Figure()\n",
        "fig.add_trace(go.Scatter(x=list(range(total_months + 1)), y=savings_over_time, mode='lines', name='Savings'))\n",
        "fig.update_layout(title=\"Projected Savings Over Time\", xaxis_title=\"Months\", yaxis_title=\"Total Savings ($)\")\n",
        "st.plotly_chart(fig, use_container_width=True)\n",
        "\n",
        "max_savings_value = monthly_savings_2 - monthly_contribution\n",
        "\n",
        "# Simple Savings Calculator\n",
        "# Header\n",
        "st.header(\"Simple Savings Calculator\")\n",
        "st.subheader(\"Add in your monthly contribution, expected annual interest rate, and length of saving. This will return an calculated Account Balance.\")\n",
        "# What are you saving for\n",
        "saving_name = st.text_input(\"What are you saving for? \")\n",
        "# what is your montly contribution\n",
        "sscmonth_contribution = st.slider(\"What is your monthly contribution? \",\n",
        "                               min_value=0.0,\n",
        "                               max_value=max_savings_value,\n",
        "                               value=10.0,\n",
        "                               step=.5)\n",
        "# What is your annual expected return rate\n",
        "annual_err = st.slider(\"Select the Annual Expected Return Rate (%):\", min_value=0.0, max_value=50.0, value=10.0, step=.5)\n",
        "# When do expect to use the money\n",
        "savings_length = st.slider(\"How long are you planning to save (years) ?:\", min_value=1, max_value=30, value=10, step=1)\n",
        "annual_rate = annual_err / 100\n",
        "# Calculation : If you save (monthly contribution) at (annual_err) for (savings_length), your account balance will be ___\n",
        "SSC_calculation = sscmonth_contribution * (((1 + annual_rate / 12) ** (12 * savings_length) - 1) / ((annual_rate) / 12))\n",
        "\n",
        "# Display the result\n",
        "st.write(f\"Projected savings **${SSC_calculation:,.2f}.\")\n",
        "\n",
        "def calculate_debt_reduction(current_debt, monthly_payment, interest_rate):\n",
        "    debt_balance = current_debt\n",
        "    debt_over_time = []\n",
        "    months = 0\n",
        "    interest_rate_monthly = (interest_rate / 100) / 12  # Convert annual rate to monthly rate\n",
        "\n",
        "    if monthly_payment <= (current_debt * interest_rate_monthly):\n",
        "        st.error(\"Monthly payment is too low to cover interest. Increase the payment amount.\")\n",
        "        return [], 0\n",
        "\n",
        "    while debt_balance > 0:\n",
        "        interest = debt_balance * interest_rate_monthly\n",
        "        principal = monthly_payment - interest\n",
        "        debt_balance -= principal\n",
        "        debt_balance = max(debt_balance, 0)  # Ensure balance does not go negative\n",
        "        debt_over_time.append(debt_balance)\n",
        "        months += 1\n",
        "        if debt_balance == 0:\n",
        "            break\n",
        "\n",
        "    return debt_over_time, months\n",
        "\n",
        "# Debt Parameter\n",
        "st.header(\"Debt Repayment Tracker\")\n",
        "st.subheader(\"View and Track Your Debt Reduction\")\n",
        "\n",
        "Current_Debt = st.number_input(\"Current Debt ($):\", min_value=0.0, step=1000.0, value=10000.0)\n",
        "Monthly_Payment = st.number_input(\"Monthly Payment ($):\", min_value=0.0, step=50.0, value=200.0)\n",
        "Interest_Rate = st.slider(\"Select the interest rate (%):\", min_value=0.0, max_value=50.0, value=10.0, step=0.5)\n",
        "\n",
        "if st.button(\"Calculate Repayment Plan\"):\n",
        "    debt_over_time, months_needed = calculate_debt_reduction(Current_Debt, Monthly_Payment, Interest_Rate)\n",
        "\n",
        "    if debt_over_time:\n",
        "        st.success(f\"Debt will be fully paid off in {months_needed} months (~{months_needed // 12} years, {months_needed % 12} months).\")\n",
        "\n",
        "        # Debt Parameter Visualization\n",
        "        st.subheader(\"Debt Tracker and Visualization\")\n",
        "        fig = go.Figure()\n",
        "        fig.add_trace(go.Scatter(x=list(range(1, len(debt_over_time) + 1)), y=debt_over_time, mode='lines+markers', name='Debt Balance'))\n",
        "        fig.update_layout(title=\"Debt Balance Over Time\", xaxis_title=\"Months\", yaxis_title=\"Remaining Debt ($)\", showlegend=True)\n",
        "        st.plotly_chart(fig, use_container_width=True)\n",
        "\n",
        "\n"
      ]
    },
    {
      "cell_type": "code",
      "source": [
        "!ngrok authtoken 2rlxC0xxkAihRSR7Lo4gZ8DkNjv_2jNN2tAPP1UZMHL8BBPB4"
      ],
      "metadata": {
        "id": "KG3nKIxG__QI",
        "colab": {
          "base_uri": "https://localhost:8080/"
        },
        "outputId": "66d469f6-5ac9-47d7-d750-56d6f0092f82"
      },
      "execution_count": 4,
      "outputs": [
        {
          "output_type": "stream",
          "name": "stdout",
          "text": [
            "Authtoken saved to configuration file: /root/.config/ngrok/ngrok.yml\n"
          ]
        }
      ]
    },
    {
      "cell_type": "markdown",
      "source": [
        "### You shoulnd't change any of the following to run this in your browser"
      ],
      "metadata": {
        "id": "NbQapVp3Lcdr"
      }
    },
    {
      "cell_type": "code",
      "execution_count": 5,
      "metadata": {
        "colab": {
          "base_uri": "https://localhost:8080/"
        },
        "id": "Tz9SVg1A51gW",
        "outputId": "6de0a9b0-6705-427f-9be4-e070bbe84b0e"
      },
      "outputs": [
        {
          "output_type": "stream",
          "name": "stdout",
          "text": [
            "Streamlit App is live at: NgrokTunnel: \"https://1ca57f04a313.ngrok-free.app\" -> \"http://localhost:8501\"\n"
          ]
        }
      ],
      "source": [
        "# These next three are for hosting the app\n",
        "import subprocess\n",
        "import time\n",
        "from pyngrok import ngrok\n",
        "\n",
        "# Kill any existing Streamlit processes\n",
        "!pkill streamlit\n",
        "\n",
        "# Start Streamlit in the background\n",
        "subprocess.Popen([\"streamlit\", \"run\", \"app.py\", \"--server.port\", \"8501\"])\n",
        "\n",
        "# Give Streamlit time to start\n",
        "time.sleep(3)\n",
        "\n",
        "# Open an Ngrok tunnel to the Streamlit app\n",
        "public_url = ngrok.connect(8501, \"http\")\n",
        "print(f\"Streamlit App is live at: {public_url}\")"
      ]
    },
    {
      "cell_type": "code",
      "source": [
        "# When finished, run this cell to end your ngrok session\n",
        "ngrok.kill()"
      ],
      "metadata": {
        "id": "j393OrmERXep"
      },
      "execution_count": null,
      "outputs": []
    },
    {
      "cell_type": "markdown",
      "source": [
        "# Assignment:\n",
        "\n",
        "#### Students should expand their financial model beyond the provided template. For full credit, each project must include:\n",
        "\n",
        "1. At least three new variables (e.g., different expense categories, savings strategies, or loan repayment details).\n",
        "1. 2-3 new visualizations to better illustrate financial projections.\n",
        "1. A new dynamic function (e.g., a slider, interactive input, or real-time updates).\n",
        "\n",
        "Students may modify the existing model or build their own from scratch. Completed projects will be hosted on Streamlit's Cloud."
      ],
      "metadata": {
        "id": "zVEo7CVTLmAC"
      }
    }
  ],
  "metadata": {
    "colab": {
      "provenance": [],
      "include_colab_link": true
    },
    "kernelspec": {
      "display_name": "Python 3",
      "name": "python3"
    },
    "language_info": {
      "name": "python"
    }
  },
  "nbformat": 4,
  "nbformat_minor": 0
}